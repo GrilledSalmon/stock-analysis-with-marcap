{
 "cells": [
  {
   "cell_type": "markdown",
   "metadata": {},
   "source": [
    "# 오르면 팔고 떨어지면 사는 전략을 백테스트로 검증하기\n",
    "- 전략 근거\n",
    "  - 주가는 진동한다.\n",
    "  - 주가에는 overshoot이 있어 적정 가격에서 벗어난 후 복귀하는 성질이 있다\n",
    "- 전략\n",
    "  - TOTAL_BUDGET만큼 예산을 잡는다.\n",
    "  - total_amount를 days만큼 나눠서 매일 살 금액 amount를 확보한다.\n",
    "  - 첫 번째 매수 : 특정 날 종가에 amount만큼 산다.\n",
    "  - 매일 최대 한 번씩 매수, 매도한다.\n",
    "  - 전날 종가보다 주가가 sell_percent% 오르면 amount만큼 판다.\n",
    "  - 전날 종가보다 주가가 buy_percent% 내리면 amount만큼 산다.\n",
    "  - 자금을 모두 사용한 경우에는\n",
    "    1. 절반을 다음날 시가(or 종가)에 손절하고 전략을 이어간다.\n",
    "    2. 모두 다음날 시가(or 종가)에 손절하고 전략을 이어간다.\n",
    "  - profit_limit_percent만큼 이익이 발생한 경우에는 전량 매도한다."
   ]
  },
  {
   "cell_type": "code",
   "execution_count": 1,
   "metadata": {},
   "outputs": [
    {
     "data": {
      "text/html": [
       "<div>\n",
       "<style scoped>\n",
       "    .dataframe tbody tr th:only-of-type {\n",
       "        vertical-align: middle;\n",
       "    }\n",
       "\n",
       "    .dataframe tbody tr th {\n",
       "        vertical-align: top;\n",
       "    }\n",
       "\n",
       "    .dataframe thead th {\n",
       "        text-align: right;\n",
       "    }\n",
       "</style>\n",
       "<table border=\"1\" class=\"dataframe\">\n",
       "  <thead>\n",
       "    <tr style=\"text-align: right;\">\n",
       "      <th></th>\n",
       "      <th>Code</th>\n",
       "      <th>Name</th>\n",
       "      <th>Market</th>\n",
       "      <th>Dept</th>\n",
       "      <th>Close</th>\n",
       "      <th>ChangeCode</th>\n",
       "      <th>Changes</th>\n",
       "      <th>ChagesRatio</th>\n",
       "      <th>Open</th>\n",
       "      <th>High</th>\n",
       "      <th>Low</th>\n",
       "      <th>Volume</th>\n",
       "      <th>Amount</th>\n",
       "      <th>Marcap</th>\n",
       "      <th>Stocks</th>\n",
       "      <th>MarketId</th>\n",
       "      <th>Rank</th>\n",
       "    </tr>\n",
       "    <tr>\n",
       "      <th>Date</th>\n",
       "      <th></th>\n",
       "      <th></th>\n",
       "      <th></th>\n",
       "      <th></th>\n",
       "      <th></th>\n",
       "      <th></th>\n",
       "      <th></th>\n",
       "      <th></th>\n",
       "      <th></th>\n",
       "      <th></th>\n",
       "      <th></th>\n",
       "      <th></th>\n",
       "      <th></th>\n",
       "      <th></th>\n",
       "      <th></th>\n",
       "      <th></th>\n",
       "      <th></th>\n",
       "    </tr>\n",
       "  </thead>\n",
       "  <tbody>\n",
       "    <tr>\n",
       "      <th>2020-10-05</th>\n",
       "      <td>005930</td>\n",
       "      <td>삼성전자</td>\n",
       "      <td>KOSPI</td>\n",
       "      <td>NaN</td>\n",
       "      <td>58700</td>\n",
       "      <td>1</td>\n",
       "      <td>500</td>\n",
       "      <td>0.86</td>\n",
       "      <td>57500</td>\n",
       "      <td>59200</td>\n",
       "      <td>57500</td>\n",
       "      <td>20228289</td>\n",
       "      <td>1183456525264</td>\n",
       "      <td>350426235685000</td>\n",
       "      <td>5969782550</td>\n",
       "      <td>STK</td>\n",
       "      <td>1</td>\n",
       "    </tr>\n",
       "    <tr>\n",
       "      <th>2020-10-05</th>\n",
       "      <td>000660</td>\n",
       "      <td>SK하이닉스</td>\n",
       "      <td>KOSPI</td>\n",
       "      <td>NaN</td>\n",
       "      <td>83200</td>\n",
       "      <td>2</td>\n",
       "      <td>-800</td>\n",
       "      <td>-0.95</td>\n",
       "      <td>83000</td>\n",
       "      <td>84100</td>\n",
       "      <td>82300</td>\n",
       "      <td>3396894</td>\n",
       "      <td>282884127576</td>\n",
       "      <td>60569796768000</td>\n",
       "      <td>728002365</td>\n",
       "      <td>STK</td>\n",
       "      <td>2</td>\n",
       "    </tr>\n",
       "    <tr>\n",
       "      <th>2020-10-05</th>\n",
       "      <td>035420</td>\n",
       "      <td>NAVER</td>\n",
       "      <td>KOSPI</td>\n",
       "      <td>NaN</td>\n",
       "      <td>298500</td>\n",
       "      <td>1</td>\n",
       "      <td>2000</td>\n",
       "      <td>0.67</td>\n",
       "      <td>297500</td>\n",
       "      <td>299000</td>\n",
       "      <td>289500</td>\n",
       "      <td>906516</td>\n",
       "      <td>267077969500</td>\n",
       "      <td>49032623407500</td>\n",
       "      <td>164263395</td>\n",
       "      <td>STK</td>\n",
       "      <td>3</td>\n",
       "    </tr>\n",
       "    <tr>\n",
       "      <th>2020-10-05</th>\n",
       "      <td>051910</td>\n",
       "      <td>LG화학</td>\n",
       "      <td>KOSPI</td>\n",
       "      <td>NaN</td>\n",
       "      <td>659000</td>\n",
       "      <td>1</td>\n",
       "      <td>5000</td>\n",
       "      <td>0.76</td>\n",
       "      <td>670000</td>\n",
       "      <td>670000</td>\n",
       "      <td>648000</td>\n",
       "      <td>443499</td>\n",
       "      <td>291628236000</td>\n",
       "      <td>46520354037000</td>\n",
       "      <td>70592343</td>\n",
       "      <td>STK</td>\n",
       "      <td>4</td>\n",
       "    </tr>\n",
       "    <tr>\n",
       "      <th>2020-10-05</th>\n",
       "      <td>207940</td>\n",
       "      <td>삼성바이오로직스</td>\n",
       "      <td>KOSPI</td>\n",
       "      <td>NaN</td>\n",
       "      <td>685000</td>\n",
       "      <td>2</td>\n",
       "      <td>-5000</td>\n",
       "      <td>-0.72</td>\n",
       "      <td>697000</td>\n",
       "      <td>701000</td>\n",
       "      <td>682000</td>\n",
       "      <td>69478</td>\n",
       "      <td>47853091000</td>\n",
       "      <td>45323025000000</td>\n",
       "      <td>66165000</td>\n",
       "      <td>STK</td>\n",
       "      <td>5</td>\n",
       "    </tr>\n",
       "  </tbody>\n",
       "</table>\n",
       "</div>"
      ],
      "text/plain": [
       "              Code      Name Market Dept   Close ChangeCode  Changes  \\\n",
       "Date                                                                   \n",
       "2020-10-05  005930      삼성전자  KOSPI  NaN   58700          1      500   \n",
       "2020-10-05  000660    SK하이닉스  KOSPI  NaN   83200          2     -800   \n",
       "2020-10-05  035420     NAVER  KOSPI  NaN  298500          1     2000   \n",
       "2020-10-05  051910      LG화학  KOSPI  NaN  659000          1     5000   \n",
       "2020-10-05  207940  삼성바이오로직스  KOSPI  NaN  685000          2    -5000   \n",
       "\n",
       "            ChagesRatio    Open    High     Low    Volume         Amount  \\\n",
       "Date                                                                       \n",
       "2020-10-05         0.86   57500   59200   57500  20228289  1183456525264   \n",
       "2020-10-05        -0.95   83000   84100   82300   3396894   282884127576   \n",
       "2020-10-05         0.67  297500  299000  289500    906516   267077969500   \n",
       "2020-10-05         0.76  670000  670000  648000    443499   291628236000   \n",
       "2020-10-05        -0.72  697000  701000  682000     69478    47853091000   \n",
       "\n",
       "                     Marcap      Stocks MarketId  Rank  \n",
       "Date                                                    \n",
       "2020-10-05  350426235685000  5969782550      STK     1  \n",
       "2020-10-05   60569796768000   728002365      STK     2  \n",
       "2020-10-05   49032623407500   164263395      STK     3  \n",
       "2020-10-05   46520354037000    70592343      STK     4  \n",
       "2020-10-05   45323025000000    66165000      STK     5  "
      ]
     },
     "execution_count": 1,
     "metadata": {},
     "output_type": "execute_result"
    }
   ],
   "source": [
    "from marcap import marcap_data\n",
    "import pandas as pd\n",
    "import numpy as np\n",
    "from datetime import timedelta, datetime\n",
    "from classes.Account import Account\n",
    "from classes.Strategy import Strategy\n",
    "\n",
    "df_2023 = marcap_data('2020-10-01', '2021-02-28')\n",
    "df_2023.head()"
   ]
  },
  {
   "cell_type": "code",
   "execution_count": 2,
   "metadata": {},
   "outputs": [
    {
     "name": "stdout",
     "output_type": "stream",
     "text": [
      "이름: 윤우계좌\n",
      "잔고: 10000000원\n",
      "보유 주식: {}\n"
     ]
    }
   ],
   "source": [
    "BUDGET = 10000000 # 천만 원\n",
    "\n",
    "yoonwoo_account = Account('윤우계좌', BUDGET)\n",
    "yoonwoo_account.show_account()"
   ]
  },
  {
   "cell_type": "code",
   "execution_count": 3,
   "metadata": {},
   "outputs": [
    {
     "name": "stdout",
     "output_type": "stream",
     "text": [
      "전략 이름: 윤우전략\n",
      "전략 예산: 10000000\n",
      "일별 예산: 2000000\n",
      "분할 매수 횟수: 5\n",
      "매수 기준 상승률: -0.02\n",
      "매도 기준 하락률: 0.02\n",
      "전체 익절 상한 수익률: 0.1\n",
      "매매 대상 주식: 삼성전자\n",
      "매매 대상 주식 데이터:               Code  Name Market Dept  Close ChangeCode  Changes  ChagesRatio  \\\n",
      "Date                                                                           \n",
      "2020-10-05  005930  삼성전자  KOSPI  NaN  58700          1      500         0.86   \n",
      "2020-10-06  005930  삼성전자  KOSPI  NaN  59000          1      300         0.51   \n",
      "2020-10-07  005930  삼성전자  KOSPI  NaN  59900          1      900         1.53   \n",
      "\n",
      "             Open   High    Low    Volume         Amount           Marcap  \\\n",
      "Date                                                                        \n",
      "2020-10-05  57500  59200  57500  20228289  1183456525264  350426235685000   \n",
      "2020-10-06  59400  59900  58700  14463826   856996117132  352217170450000   \n",
      "2020-10-07  58700  59900  58500  14861838   881415107100  357589974745000   \n",
      "\n",
      "                Stocks MarketId  Rank  \n",
      "Date                                   \n",
      "2020-10-05  5969782550      STK     1  \n",
      "2020-10-06  5969782550      STK     1  \n",
      "2020-10-07  5969782550      STK     1  \n"
     ]
    }
   ],
   "source": [
    "STRATEGY_NAME = '윤우전략'\n",
    "STRATEGY_BUDGET = BUDGET\n",
    "DIVIDE_NUMBER = 5\n",
    "BUY_PERCENT = -0.02\n",
    "SELL_PERCENT = 0.02\n",
    "PROFIT_LIMIT_PERCENT = 0.1\n",
    "STOCK_NAME = '삼성전자'\n",
    "DAYS = 60\n",
    "\n",
    "yoonwoo_strategy = Strategy(STRATEGY_NAME, STRATEGY_BUDGET, DIVIDE_NUMBER,\n",
    "                             BUY_PERCENT, SELL_PERCENT, PROFIT_LIMIT_PERCENT,\n",
    "                               STOCK_NAME, df_2023, yoonwoo_account)\n",
    "\n",
    "yoonwoo_strategy.show_strategy()"
   ]
  },
  {
   "cell_type": "code",
   "execution_count": 4,
   "metadata": {},
   "outputs": [
    {
     "ename": "Exception",
     "evalue": "잔액이 부족합니다.",
     "output_type": "error",
     "traceback": [
      "\u001b[0;31m---------------------------------------------------------------------------\u001b[0m",
      "\u001b[0;31mException\u001b[0m                                 Traceback (most recent call last)",
      "\u001b[1;32m/Users/yoonwookye/for_stock/stock-price-analysis/ascent_sell_descent_buy.ipynb 셀 5\u001b[0m in \u001b[0;36m<cell line: 2>\u001b[0;34m()\u001b[0m\n\u001b[1;32m      <a href='vscode-notebook-cell:/Users/yoonwookye/for_stock/stock-price-analysis/ascent_sell_descent_buy.ipynb#W6sZmlsZQ%3D%3D?line=3'>4</a>\u001b[0m     yoonwoo_strategy\u001b[39m.\u001b[39mfirst_buy_strategy(i)\n\u001b[1;32m      <a href='vscode-notebook-cell:/Users/yoonwookye/for_stock/stock-price-analysis/ascent_sell_descent_buy.ipynb#W6sZmlsZQ%3D%3D?line=4'>5</a>\u001b[0m     \u001b[39mcontinue\u001b[39;00m\n\u001b[0;32m----> <a href='vscode-notebook-cell:/Users/yoonwookye/for_stock/stock-price-analysis/ascent_sell_descent_buy.ipynb#W6sZmlsZQ%3D%3D?line=5'>6</a>\u001b[0m yoonwoo_strategy\u001b[39m.\u001b[39;49mbuy_strategy(i)\n\u001b[1;32m      <a href='vscode-notebook-cell:/Users/yoonwookye/for_stock/stock-price-analysis/ascent_sell_descent_buy.ipynb#W6sZmlsZQ%3D%3D?line=6'>7</a>\u001b[0m yoonwoo_strategy\u001b[39m.\u001b[39msell_strategy(i)\n",
      "File \u001b[0;32m~/for_stock/stock-price-analysis/classes/Strategy.py:94\u001b[0m, in \u001b[0;36mStrategy.buy_strategy\u001b[0;34m(self, index)\u001b[0m\n\u001b[1;32m     92\u001b[0m buy_price \u001b[39m=\u001b[39m \u001b[39mself\u001b[39m\u001b[39m.\u001b[39m_get_buy_price(prev_close)\n\u001b[1;32m     93\u001b[0m count \u001b[39m=\u001b[39m \u001b[39mself\u001b[39m\u001b[39m.\u001b[39m_calc_stock_count(\u001b[39mself\u001b[39m\u001b[39m.\u001b[39mstd_amount, buy_price)\n\u001b[0;32m---> 94\u001b[0m \u001b[39mself\u001b[39;49m\u001b[39m.\u001b[39;49maccount\u001b[39m.\u001b[39;49mbuy_stock(\u001b[39mself\u001b[39;49m\u001b[39m.\u001b[39;49mstock_name, buy_price, count)\n",
      "File \u001b[0;32m~/for_stock/stock-price-analysis/classes/Account.py:44\u001b[0m, in \u001b[0;36mbuy_stock\u001b[0;34m(self, stock_name, price, count)\u001b[0m\n\u001b[1;32m     42\u001b[0m \u001b[39mif\u001b[39;00m stock_name \u001b[39mnot\u001b[39;00m \u001b[39min\u001b[39;00m \u001b[39mself\u001b[39m\u001b[39m.\u001b[39mstocks:\n\u001b[1;32m     43\u001b[0m     \u001b[39mself\u001b[39m\u001b[39m.\u001b[39m_initialize_stock(stock_name)\n\u001b[0;32m---> 44\u001b[0m buy_amount \u001b[39m=\u001b[39m price \u001b[39m*\u001b[39m count\n\u001b[1;32m     45\u001b[0m \u001b[39mself\u001b[39m\u001b[39m.\u001b[39mstocks[stock_name][\u001b[39m\"\u001b[39m\u001b[39mcount\u001b[39m\u001b[39m\"\u001b[39m] \u001b[39m+\u001b[39m\u001b[39m=\u001b[39m count\n\u001b[1;32m     46\u001b[0m \u001b[39mself\u001b[39m\u001b[39m.\u001b[39mstocks[stock_name][\u001b[39m\"\u001b[39m\u001b[39mpurchase_amount\u001b[39m\u001b[39m\"\u001b[39m] \u001b[39m+\u001b[39m\u001b[39m=\u001b[39m buy_amount\n",
      "\u001b[0;31mException\u001b[0m: 잔액이 부족합니다."
     ]
    }
   ],
   "source": [
    "# 20일간의 삼성전자 주가 변화에 따른 매매\n",
    "for i in range(DAYS):\n",
    "    if i == 0:\n",
    "        yoonwoo_strategy.first_buy_strategy(i)\n",
    "        continue\n",
    "    yoonwoo_strategy.buy_strategy(i)\n",
    "    yoonwoo_strategy.sell_strategy(i)\n"
   ]
  },
  {
   "cell_type": "code",
   "execution_count": 101,
   "metadata": {},
   "outputs": [
    {
     "name": "stdout",
     "output_type": "stream",
     "text": [
      "이름: 윤우계좌\n",
      "잔고: 3174325.75원\n",
      "보유 주식: {'삼성전자': {'count': 458, 'purchase_amount': 26818190}}\n"
     ]
    }
   ],
   "source": [
    "yoonwoo_account.show_account()"
   ]
  },
  {
   "cell_type": "code",
   "execution_count": 102,
   "metadata": {},
   "outputs": [
    {
     "data": {
      "text/plain": [
       "0.33720433780206643"
      ]
     },
     "execution_count": 102,
     "metadata": {},
     "output_type": "execute_result"
    }
   ],
   "source": [
    "open, close, high, low = yoonwoo_strategy._get_now_price_data(60 - 1)\n",
    "yoonwoo_account.get_earning_rate(STOCK_NAME, close)"
   ]
  },
  {
   "cell_type": "code",
   "execution_count": 103,
   "metadata": {},
   "outputs": [
    {
     "data": {
      "image/png": "[encoded data removed]",
      "text/plain": [
       "<Figure size 432x288 with 1 Axes>"
      ]
     },
     "metadata": {
      "needs_background": "light"
     },
     "output_type": "display_data"
    }
   ],
   "source": [
    "import matplotlib.pyplot as plt\n",
    "from matplotlib import rc\n",
    "rc('font', family='AppleGothic')\n",
    "\n",
    "plt.plot(samsung.head(60)['Close'])\n",
    "plt.title(f'{STOCK_NAME} {DAYS}일 동안의 주가 변화')\n",
    "plt.grid()\n",
    "plt.show()"
   ]
  },
  {
   "cell_type": "code",
   "execution_count": null,
   "metadata": {},
   "outputs": [],
   "source": []
  }
 ],
 "metadata": {
  "kernelspec": {
   "display_name": "Python 3.9.12 ('base')",
   "language": "python",
   "name": "python3"
  },
  "language_info": {
   "codemirror_mode": {
    "name": "ipython",
    "version": 3
   },
   "file_extension": ".py",
   "mimetype": "text/x-python",
   "name": "python",
   "nbconvert_exporter": "python",
   "pygments_lexer": "ipython3",
   "version": "3.9.12"
  },
  "orig_nbformat": 4,
  "vscode": {
   "interpreter": {
    "hash": "1a1aa031f8f505a1304b2110c37f8dabe2cc22a1b24ff078589fb85b7b5721bb"
   }
  }
 },
 "nbformat": 4,
 "nbformat_minor": 2
}
