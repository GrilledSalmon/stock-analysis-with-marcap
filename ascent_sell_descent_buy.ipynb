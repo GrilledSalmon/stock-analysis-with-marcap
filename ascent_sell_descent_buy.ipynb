{
 "cells": [
  {
   "cell_type": "markdown",
   "metadata": {},
   "source": [
    "# 오르면 팔고 떨어지면 사는 전략을 백테스트로 검증하기\n",
    "- 전략 근거\n",
    "  - 주가는 진동한다.\n",
    "  - 주가에는 overshoot이 있어 적정 가격에서 벗어난 후 복귀하는 성질이 있다\n",
    "- 전략\n",
    "  - TOTAL_BUDGET만큼 예산을 잡는다.\n",
    "  - total_amount를 days만큼 나눠서 매일 살 금액 amount를 확보한다.\n",
    "  - 첫 번째 매수 : 특정 날 종가에 amount만큼 산다.\n",
    "  - 매일 최대 한 번씩 매수, 매도한다.\n",
    "  - 전날 종가보다 주가가 sell_percent% 오르면 amount만큼 판다.\n",
    "  - 전날 종가보다 주가가 buy_percent% 내리면 amount만큼 산다.\n",
    "  - 자금을 모두 사용한 경우에는\n",
    "    1. 절반을 다음날 시가(or 종가)에 손절하고 전략을 이어간다.\n",
    "    2. 모두 다음날 시가(or 종가)에 손절하고 전략을 이어간다.\n",
    "  - profit_limit_percent만큼 이익이 발생한 경우에는 전량 매도한다."
   ]
  },
  {
   "cell_type": "code",
   "execution_count": 1,
   "metadata": {},
   "outputs": [
    {
     "data": {
      "text/html": [
       "<div>\n",
       "<style scoped>\n",
       "    .dataframe tbody tr th:only-of-type {\n",
       "        vertical-align: middle;\n",
       "    }\n",
       "\n",
       "    .dataframe tbody tr th {\n",
       "        vertical-align: top;\n",
       "    }\n",
       "\n",
       "    .dataframe thead th {\n",
       "        text-align: right;\n",
       "    }\n",
       "</style>\n",
       "<table border=\"1\" class=\"dataframe\">\n",
       "  <thead>\n",
       "    <tr style=\"text-align: right;\">\n",
       "      <th></th>\n",
       "      <th>Code</th>\n",
       "      <th>Name</th>\n",
       "      <th>Close</th>\n",
       "      <th>Dept</th>\n",
       "      <th>ChangeCode</th>\n",
       "      <th>Changes</th>\n",
       "      <th>ChagesRatio</th>\n",
       "      <th>Volume</th>\n",
       "      <th>Amount</th>\n",
       "      <th>Open</th>\n",
       "      <th>High</th>\n",
       "      <th>Low</th>\n",
       "      <th>Marcap</th>\n",
       "      <th>Stocks</th>\n",
       "      <th>Market</th>\n",
       "      <th>MarketId</th>\n",
       "      <th>Rank</th>\n",
       "    </tr>\n",
       "    <tr>\n",
       "      <th>Date</th>\n",
       "      <th></th>\n",
       "      <th></th>\n",
       "      <th></th>\n",
       "      <th></th>\n",
       "      <th></th>\n",
       "      <th></th>\n",
       "      <th></th>\n",
       "      <th></th>\n",
       "      <th></th>\n",
       "      <th></th>\n",
       "      <th></th>\n",
       "      <th></th>\n",
       "      <th></th>\n",
       "      <th></th>\n",
       "      <th></th>\n",
       "      <th></th>\n",
       "      <th></th>\n",
       "    </tr>\n",
       "  </thead>\n",
       "  <tbody>\n",
       "    <tr>\n",
       "      <th>2023-01-02</th>\n",
       "      <td>005930</td>\n",
       "      <td>삼성전자</td>\n",
       "      <td>55500</td>\n",
       "      <td>NaN</td>\n",
       "      <td>1</td>\n",
       "      <td>200</td>\n",
       "      <td>0.36</td>\n",
       "      <td>10031448</td>\n",
       "      <td>558433491400</td>\n",
       "      <td>55500</td>\n",
       "      <td>56100</td>\n",
       "      <td>55200</td>\n",
       "      <td>331322931525000</td>\n",
       "      <td>5969782550</td>\n",
       "      <td>KOSPI</td>\n",
       "      <td>STK</td>\n",
       "      <td>1</td>\n",
       "    </tr>\n",
       "    <tr>\n",
       "      <th>2023-01-02</th>\n",
       "      <td>373220</td>\n",
       "      <td>LG에너지솔루션</td>\n",
       "      <td>446000</td>\n",
       "      <td>NaN</td>\n",
       "      <td>1</td>\n",
       "      <td>10500</td>\n",
       "      <td>2.41</td>\n",
       "      <td>250046</td>\n",
       "      <td>112200536500</td>\n",
       "      <td>442000</td>\n",
       "      <td>455000</td>\n",
       "      <td>441500</td>\n",
       "      <td>104364000000000</td>\n",
       "      <td>234000000</td>\n",
       "      <td>KOSPI</td>\n",
       "      <td>STK</td>\n",
       "      <td>2</td>\n",
       "    </tr>\n",
       "    <tr>\n",
       "      <th>2023-01-02</th>\n",
       "      <td>207940</td>\n",
       "      <td>삼성바이오로직스</td>\n",
       "      <td>827000</td>\n",
       "      <td>NaN</td>\n",
       "      <td>1</td>\n",
       "      <td>6000</td>\n",
       "      <td>0.73</td>\n",
       "      <td>33010</td>\n",
       "      <td>27329403000</td>\n",
       "      <td>831000</td>\n",
       "      <td>833000</td>\n",
       "      <td>822000</td>\n",
       "      <td>58860898000000</td>\n",
       "      <td>71174000</td>\n",
       "      <td>KOSPI</td>\n",
       "      <td>STK</td>\n",
       "      <td>3</td>\n",
       "    </tr>\n",
       "    <tr>\n",
       "      <th>2023-01-02</th>\n",
       "      <td>000660</td>\n",
       "      <td>SK하이닉스</td>\n",
       "      <td>75700</td>\n",
       "      <td>NaN</td>\n",
       "      <td>1</td>\n",
       "      <td>700</td>\n",
       "      <td>0.93</td>\n",
       "      <td>1376985</td>\n",
       "      <td>104385549300</td>\n",
       "      <td>75100</td>\n",
       "      <td>76700</td>\n",
       "      <td>75000</td>\n",
       "      <td>55109779030500</td>\n",
       "      <td>728002365</td>\n",
       "      <td>KOSPI</td>\n",
       "      <td>STK</td>\n",
       "      <td>4</td>\n",
       "    </tr>\n",
       "    <tr>\n",
       "      <th>2023-01-02</th>\n",
       "      <td>051910</td>\n",
       "      <td>LG화학</td>\n",
       "      <td>604000</td>\n",
       "      <td>NaN</td>\n",
       "      <td>1</td>\n",
       "      <td>4000</td>\n",
       "      <td>0.67</td>\n",
       "      <td>108253</td>\n",
       "      <td>65915777000</td>\n",
       "      <td>596000</td>\n",
       "      <td>620000</td>\n",
       "      <td>596000</td>\n",
       "      <td>42637775172000</td>\n",
       "      <td>70592343</td>\n",
       "      <td>KOSPI</td>\n",
       "      <td>STK</td>\n",
       "      <td>5</td>\n",
       "    </tr>\n",
       "  </tbody>\n",
       "</table>\n",
       "</div>"
      ],
      "text/plain": [
       "              Code      Name   Close Dept ChangeCode  Changes  ChagesRatio  \\\n",
       "Date                                                                         \n",
       "2023-01-02  005930      삼성전자   55500  NaN          1      200         0.36   \n",
       "2023-01-02  373220  LG에너지솔루션  446000  NaN          1    10500         2.41   \n",
       "2023-01-02  207940  삼성바이오로직스  827000  NaN          1     6000         0.73   \n",
       "2023-01-02  000660    SK하이닉스   75700  NaN          1      700         0.93   \n",
       "2023-01-02  051910      LG화학  604000  NaN          1     4000         0.67   \n",
       "\n",
       "              Volume        Amount    Open    High     Low           Marcap  \\\n",
       "Date                                                                          \n",
       "2023-01-02  10031448  558433491400   55500   56100   55200  331322931525000   \n",
       "2023-01-02    250046  112200536500  442000  455000  441500  104364000000000   \n",
       "2023-01-02     33010   27329403000  831000  833000  822000   58860898000000   \n",
       "2023-01-02   1376985  104385549300   75100   76700   75000   55109779030500   \n",
       "2023-01-02    108253   65915777000  596000  620000  596000   42637775172000   \n",
       "\n",
       "                Stocks Market MarketId  Rank  \n",
       "Date                                          \n",
       "2023-01-02  5969782550  KOSPI      STK     1  \n",
       "2023-01-02   234000000  KOSPI      STK     2  \n",
       "2023-01-02    71174000  KOSPI      STK     3  \n",
       "2023-01-02   728002365  KOSPI      STK     4  \n",
       "2023-01-02    70592343  KOSPI      STK     5  "
      ]
     },
     "execution_count": 1,
     "metadata": {},
     "output_type": "execute_result"
    }
   ],
   "source": [
    "from marcap import marcap_data\n",
    "import pandas as pd\n",
    "import numpy as np\n",
    "from datetime import timedelta, datetime\n",
    "from src.classes.Account import Account\n",
    "from src.classes.Strategy import Strategy\n",
    "\n",
    "df_2023 = marcap_data('2023-01-01', '2023-06-30')\n",
    "df_2023.head()"
   ]
  },
  {
   "cell_type": "code",
   "execution_count": 2,
   "metadata": {},
   "outputs": [
    {
     "name": "stdout",
     "output_type": "stream",
     "text": [
      "이름: 윤우계좌\n",
      "잔고: 10,000,000원\n",
      "보유 주식: {}\n"
     ]
    }
   ],
   "source": [
    "BUDGET = 10000000 # 천만 원\n",
    "\n",
    "yoonwoo_account = Account('윤우계좌', BUDGET)\n",
    "yoonwoo_account.show_account()"
   ]
  },
  {
   "cell_type": "code",
   "execution_count": 3,
   "metadata": {},
   "outputs": [
    {
     "name": "stdout",
     "output_type": "stream",
     "text": [
      "전략 이름: 윤우전략\n",
      "전략 예산: 10,000,000원\n",
      "일별 예산: 2,000,000원\n",
      "분할 매수 횟수: 5회\n",
      "매수 기준 하락룰: -2.00%\n",
      "매도 기준 상승률: 2.00%\n",
      "전체 익절 상한 수익률: 10.00%\n",
      "매매 대상 주식: 삼성전자\n",
      "매매 대상 주식 데이터: \n",
      "Code                    005930\n",
      "Name                      삼성전자\n",
      "Close                    55500\n",
      "Dept                       NaN\n",
      "ChangeCode                   1\n",
      "Changes                    200\n",
      "ChagesRatio               0.36\n",
      "Volume                10031448\n",
      "Amount            558433491400\n",
      "Open                     55500\n",
      "High                     56100\n",
      "Low                      55200\n",
      "Marcap         331322931525000\n",
      "Stocks              5969782550\n",
      "Market                   KOSPI\n",
      "MarketId                   STK\n",
      "Rank                         1\n",
      "Name: 2023-01-02 00:00:00, dtype: object\n"
     ]
    }
   ],
   "source": [
    "STRATEGY_NAME = '윤우전략'\n",
    "STRATEGY_BUDGET = BUDGET\n",
    "DIVIDE_NUMBER = 5\n",
    "BUY_PERCENT = -0.02\n",
    "SELL_PERCENT = 0.02\n",
    "PROFIT_LIMIT_PERCENT = 0.1\n",
    "STOCK_NAME = '삼성전자'\n",
    "DAYS = 60\n",
    "\n",
    "yoonwoo_strategy = Strategy(STRATEGY_NAME, STRATEGY_BUDGET, DIVIDE_NUMBER,\n",
    "                             BUY_PERCENT, SELL_PERCENT, PROFIT_LIMIT_PERCENT,\n",
    "                               STOCK_NAME, df_2023, yoonwoo_account)\n",
    "\n",
    "yoonwoo_strategy.show_strategy()"
   ]
  },
  {
   "cell_type": "markdown",
   "metadata": {},
   "source": [
    "# 누적 수익률 구하는 것부터 하기"
   ]
  },
  {
   "cell_type": "code",
   "execution_count": 4,
   "metadata": {},
   "outputs": [
    {
     "name": "stdout",
     "output_type": "stream",
     "text": [
      "삼성전자 주식을 144개 전량 매도했습니다.\n",
      "잔액이 부족헤 종가에 반을 매도합니다.\n",
      "잔액이 부족헤 종가에 반을 매도합니다.\n",
      "삼성전자 주식을 91개 전량 매도했습니다.\n",
      "잔액이 부족헤 종가에 반을 매도합니다.\n",
      "잔액이 부족헤 종가에 반을 매도합니다.\n",
      "잔액이 부족헤 종가에 반을 매도합니다.\n",
      "삼성전자 주식을 77개 전량 매도했습니다.\n",
      "잔액이 부족헤 종가에 반을 매도합니다.\n",
      "잔액이 부족헤 종가에 반을 매도합니다.\n",
      "잔액이 부족헤 종가에 반을 매도합니다.\n",
      "잔액이 부족헤 종가에 반을 매도합니다.\n",
      "잔액이 부족헤 종가에 반을 매도합니다.\n",
      "삼성전자 주식을 92개 전량 매도했습니다.\n"
     ]
    }
   ],
   "source": [
    "# 20일간의 삼성전자 주가 변화에 따른 매매\n",
    "for i in range(DAYS):\n",
    "    if i == 0:\n",
    "        yoonwoo_strategy.first_buy_strategy(i)\n",
    "        continue\n",
    "    yoonwoo_strategy.buy_strategy(i)\n",
    "    yoonwoo_strategy.sell_strategy(i)\n"
   ]
  },
  {
   "cell_type": "code",
   "execution_count": 5,
   "metadata": {},
   "outputs": [
    {
     "name": "stdout",
     "output_type": "stream",
     "text": [
      "이름: 윤우계좌\n",
      "잔고: 4,133,816.3100000042원\n",
      "보유 주식: {'삼성전자': {'count': 128, 'purchase_amount': 7849408}}\n"
     ]
    }
   ],
   "source": [
    "yoonwoo_account.show_account()"
   ]
  },
  {
   "cell_type": "code",
   "execution_count": 6,
   "metadata": {},
   "outputs": [
    {
     "data": {
      "text/plain": [
       "0.022446533547498104"
      ]
     },
     "execution_count": 6,
     "metadata": {},
     "output_type": "execute_result"
    }
   ],
   "source": [
    "open, close, high, low = yoonwoo_strategy._get_now_price_data(60 - 1)\n",
    "yoonwoo_account.get_stock_earning_rate(STOCK_NAME, close)"
   ]
  },
  {
   "cell_type": "code",
   "execution_count": 8,
   "metadata": {},
   "outputs": [
    {
     "data": {
      "image/png": "[encoded data removed]",
      "text/plain": [
       "<Figure size 432x288 with 1 Axes>"
      ]
     },
     "metadata": {
      "needs_background": "light"
     },
     "output_type": "display_data"
    }
   ],
   "source": [
    "import matplotlib.pyplot as plt\n",
    "from matplotlib import rc\n",
    "rc('font', family='AppleGothic')\n",
    "\n",
    "plt.plot(yoonwoo_strategy.target_df.head(60)['Close'])\n",
    "plt.title(f'{STOCK_NAME} {DAYS}일 동안의 주가 변화')\n",
    "plt.grid()\n",
    "plt.show()"
   ]
  },
  {
   "cell_type": "code",
   "execution_count": null,
   "metadata": {},
   "outputs": [],
   "source": []
  }
 ],
 "metadata": {
  "kernelspec": {
   "display_name": "Python 3.9.12 ('base')",
   "language": "python",
   "name": "python3"
  },
  "language_info": {
   "codemirror_mode": {
    "name": "ipython",
    "version": 3
   },
   "file_extension": ".py",
   "mimetype": "text/x-python",
   "name": "python",
   "nbconvert_exporter": "python",
   "pygments_lexer": "ipython3",
   "version": "3.9.12"
  },
  "orig_nbformat": 4,
  "vscode": {
   "interpreter": {
    "hash": "1a1aa031f8f505a1304b2110c37f8dabe2cc22a1b24ff078589fb85b7b5721bb"
   }
  }
 },
 "nbformat": 4,
 "nbformat_minor": 2
}
