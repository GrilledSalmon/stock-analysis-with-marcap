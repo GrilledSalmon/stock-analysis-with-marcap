{
 "cells": [
  {
   "cell_type": "code",
   "execution_count": 1,
   "metadata": {},
   "outputs": [],
   "source": [
    "from marcap import marcap_data\n",
    "import pandas as pd\n",
    "import numpy as np\n",
    "from datetime import timedelta, datetime\n"
   ]
  },
  {
   "cell_type": "code",
   "execution_count": 2,
   "metadata": {},
   "outputs": [
    {
     "data": {
      "text/html": [
       "<div>\n",
       "<style scoped>\n",
       "    .dataframe tbody tr th:only-of-type {\n",
       "        vertical-align: middle;\n",
       "    }\n",
       "\n",
       "    .dataframe tbody tr th {\n",
       "        vertical-align: top;\n",
       "    }\n",
       "\n",
       "    .dataframe thead th {\n",
       "        text-align: right;\n",
       "    }\n",
       "</style>\n",
       "<table border=\"1\" class=\"dataframe\">\n",
       "  <thead>\n",
       "    <tr style=\"text-align: right;\">\n",
       "      <th></th>\n",
       "      <th>Date</th>\n",
       "      <th>Code</th>\n",
       "      <th>Name</th>\n",
       "      <th>Market</th>\n",
       "      <th>Dept</th>\n",
       "      <th>Close</th>\n",
       "      <th>ChangeCode</th>\n",
       "      <th>Changes</th>\n",
       "      <th>ChagesRatio</th>\n",
       "      <th>Open</th>\n",
       "      <th>High</th>\n",
       "      <th>Low</th>\n",
       "      <th>Volume</th>\n",
       "      <th>Amount</th>\n",
       "      <th>Marcap</th>\n",
       "      <th>Stocks</th>\n",
       "      <th>MarketId</th>\n",
       "      <th>Rank</th>\n",
       "    </tr>\n",
       "  </thead>\n",
       "  <tbody>\n",
       "    <tr>\n",
       "      <th>0</th>\n",
       "      <td>2022-10-04</td>\n",
       "      <td>005930</td>\n",
       "      <td>삼성전자</td>\n",
       "      <td>KOSPI</td>\n",
       "      <td>NaN</td>\n",
       "      <td>55200</td>\n",
       "      <td>1</td>\n",
       "      <td>2100</td>\n",
       "      <td>3.95</td>\n",
       "      <td>55300</td>\n",
       "      <td>55400</td>\n",
       "      <td>54500</td>\n",
       "      <td>19148435</td>\n",
       "      <td>1056852669700</td>\n",
       "      <td>329531996760000</td>\n",
       "      <td>5969782550</td>\n",
       "      <td>STK</td>\n",
       "      <td>1</td>\n",
       "    </tr>\n",
       "    <tr>\n",
       "      <th>1</th>\n",
       "      <td>2022-10-04</td>\n",
       "      <td>373220</td>\n",
       "      <td>LG에너지솔루션</td>\n",
       "      <td>KOSPI</td>\n",
       "      <td>NaN</td>\n",
       "      <td>444500</td>\n",
       "      <td>1</td>\n",
       "      <td>18000</td>\n",
       "      <td>4.22</td>\n",
       "      <td>429500</td>\n",
       "      <td>446000</td>\n",
       "      <td>415000</td>\n",
       "      <td>385281</td>\n",
       "      <td>167012070000</td>\n",
       "      <td>104013000000000</td>\n",
       "      <td>234000000</td>\n",
       "      <td>STK</td>\n",
       "      <td>2</td>\n",
       "    </tr>\n",
       "    <tr>\n",
       "      <th>2</th>\n",
       "      <td>2022-10-04</td>\n",
       "      <td>000660</td>\n",
       "      <td>SK하이닉스</td>\n",
       "      <td>KOSPI</td>\n",
       "      <td>NaN</td>\n",
       "      <td>86200</td>\n",
       "      <td>1</td>\n",
       "      <td>3100</td>\n",
       "      <td>3.73</td>\n",
       "      <td>85200</td>\n",
       "      <td>87200</td>\n",
       "      <td>85200</td>\n",
       "      <td>4277404</td>\n",
       "      <td>369025972586</td>\n",
       "      <td>62753803863000</td>\n",
       "      <td>728002365</td>\n",
       "      <td>STK</td>\n",
       "      <td>3</td>\n",
       "    </tr>\n",
       "    <tr>\n",
       "      <th>3</th>\n",
       "      <td>2022-10-04</td>\n",
       "      <td>207940</td>\n",
       "      <td>삼성바이오로직스</td>\n",
       "      <td>KOSPI</td>\n",
       "      <td>NaN</td>\n",
       "      <td>811000</td>\n",
       "      <td>1</td>\n",
       "      <td>4000</td>\n",
       "      <td>0.50</td>\n",
       "      <td>817000</td>\n",
       "      <td>819000</td>\n",
       "      <td>800000</td>\n",
       "      <td>43322</td>\n",
       "      <td>35148508000</td>\n",
       "      <td>57722114000000</td>\n",
       "      <td>71174000</td>\n",
       "      <td>STK</td>\n",
       "      <td>4</td>\n",
       "    </tr>\n",
       "    <tr>\n",
       "      <th>4</th>\n",
       "      <td>2022-10-04</td>\n",
       "      <td>005935</td>\n",
       "      <td>삼성전자우</td>\n",
       "      <td>KOSPI</td>\n",
       "      <td>NaN</td>\n",
       "      <td>49300</td>\n",
       "      <td>1</td>\n",
       "      <td>2400</td>\n",
       "      <td>5.12</td>\n",
       "      <td>48250</td>\n",
       "      <td>49300</td>\n",
       "      <td>48150</td>\n",
       "      <td>1442439</td>\n",
       "      <td>70552576300</td>\n",
       "      <td>40568314310000</td>\n",
       "      <td>822886700</td>\n",
       "      <td>STK</td>\n",
       "      <td>5</td>\n",
       "    </tr>\n",
       "  </tbody>\n",
       "</table>\n",
       "</div>"
      ],
      "text/plain": [
       "         Date    Code      Name Market Dept   Close ChangeCode  Changes  \\\n",
       "0  2022-10-04  005930      삼성전자  KOSPI  NaN   55200          1     2100   \n",
       "1  2022-10-04  373220  LG에너지솔루션  KOSPI  NaN  444500          1    18000   \n",
       "2  2022-10-04  000660    SK하이닉스  KOSPI  NaN   86200          1     3100   \n",
       "3  2022-10-04  207940  삼성바이오로직스  KOSPI  NaN  811000          1     4000   \n",
       "4  2022-10-04  005935     삼성전자우  KOSPI  NaN   49300          1     2400   \n",
       "\n",
       "   ChagesRatio    Open    High     Low    Volume         Amount  \\\n",
       "0         3.95   55300   55400   54500  19148435  1056852669700   \n",
       "1         4.22  429500  446000  415000    385281   167012070000   \n",
       "2         3.73   85200   87200   85200   4277404   369025972586   \n",
       "3         0.50  817000  819000  800000     43322    35148508000   \n",
       "4         5.12   48250   49300   48150   1442439    70552576300   \n",
       "\n",
       "            Marcap      Stocks MarketId  Rank  \n",
       "0  329531996760000  5969782550      STK     1  \n",
       "1  104013000000000   234000000      STK     2  \n",
       "2   62753803863000   728002365      STK     3  \n",
       "3   57722114000000    71174000      STK     4  \n",
       "4   40568314310000   822886700      STK     5  "
      ]
     },
     "execution_count": 2,
     "metadata": {},
     "output_type": "execute_result"
    }
   ],
   "source": [
    "df_2023 = marcap_data('2022-10-01', '2023-02-28')\n",
    "df_2023.reset_index(inplace=True)\n",
    "df_2023['Date'] = df_2023['Date'].apply(lambda x: pd.to_datetime(x).strftime('%Y-%m-%d'))\n",
    "date_list = sorted(df_2023['Date'].unique())\n",
    "# date_list = sorted(map(lambda x: pd.to_datetime(x).strftime('%Y-%m-%d'), df_2023['Date'].unique()))\n",
    "date_to_ind = {date: i for i, date in enumerate(date_list)}\n",
    "df_2023.head()"
   ]
  },
  {
   "cell_type": "code",
   "execution_count": 179,
   "metadata": {},
   "outputs": [],
   "source": [
    "rise_stock_list = []  # 상한가 리스트\n",
    "next_date_stock_list = [] # 상한가 다음날 리스트\n",
    "for i in range(len(df_2023)):\n",
    "    now_case = df_2023.loc[i]\n",
    "    changes_ratio = now_case['ChagesRatio']\n",
    "    if changes_ratio > 29:\n",
    "        next_date_ind = date_to_ind[now_case['Date']] + 1\n",
    "        if next_date_ind > len(date_list)-1:\n",
    "            break\n",
    "        next_date = date_list[next_date_ind]\n",
    "        rise_stock_list.append(now_case)\n",
    "        next_day_case = df_2023[(df_2023['Date'] == next_date) & (df_2023['Code'] == now_case['Code'])]\n",
    "        next_date_stock_list.append(next_day_case)\n",
    "\n",
    "rise_stock_res = pd.DataFrame(rise_stock_list)\n",
    "next_date_stock_res = pd.concat(next_date_stock_list)"
   ]
  },
  {
   "cell_type": "code",
   "execution_count": 180,
   "metadata": {},
   "outputs": [
    {
     "data": {
      "text/plain": [
       "count    421.000000\n",
       "mean      30.938195\n",
       "std       21.522524\n",
       "min       29.020000\n",
       "25%       29.820000\n",
       "50%       29.900000\n",
       "75%       29.960000\n",
       "max      471.430000\n",
       "Name: ChagesRatio, dtype: float64"
      ]
     },
     "execution_count": 180,
     "metadata": {},
     "output_type": "execute_result"
    }
   ],
   "source": [
    "rise_stock_res.describe()['ChagesRatio']"
   ]
  },
  {
   "cell_type": "code",
   "execution_count": 181,
   "metadata": {},
   "outputs": [
    {
     "data": {
      "text/plain": [
       "count    411.000000\n",
       "mean       3.594501\n",
       "std       12.634588\n",
       "min      -31.380000\n",
       "25%       -4.675000\n",
       "50%        1.360000\n",
       "75%        7.640000\n",
       "max       30.000000\n",
       "Name: ChagesRatio, dtype: float64"
      ]
     },
     "execution_count": 181,
     "metadata": {},
     "output_type": "execute_result"
    }
   ],
   "source": [
    "next_date_stock_res.describe()['ChagesRatio']"
   ]
  },
  {
   "cell_type": "code",
   "execution_count": 195,
   "metadata": {},
   "outputs": [],
   "source": [
    "def calc_ratio(start, end):\n",
    "    return round((end - start) / start * 100, 2)\n",
    "\n",
    "next_date_stock_res['HighChangeRatio'] = next_date_stock_res.apply(lambda x: calc_ratio(x['Open'], x['High']), axis=1)\n",
    "next_date_stock_res['LowChangeRatio'] = next_date_stock_res.apply(lambda x: calc_ratio(x['Open'], x['Low']), axis=1)"
   ]
  },
  {
   "cell_type": "code",
   "execution_count": 196,
   "metadata": {},
   "outputs": [
    {
     "data": {
      "text/plain": [
       "count    411.000000\n",
       "mean       8.056545\n",
       "std        7.270662\n",
       "min        0.000000\n",
       "25%        2.065000\n",
       "50%        6.180000\n",
       "75%       12.135000\n",
       "max       31.730000\n",
       "Name: HighChangeRatio, dtype: float64"
      ]
     },
     "execution_count": 196,
     "metadata": {},
     "output_type": "execute_result"
    }
   ],
   "source": [
    "next_date_stock_res.describe()['HighChangeRatio']"
   ]
  },
  {
   "cell_type": "code",
   "execution_count": 197,
   "metadata": {},
   "outputs": [],
   "source": [
    "high_change_ratio = next_date_stock_res['HighChangeRatio']\n",
    "low_change_ratio = next_date_stock_res['LowChangeRatio']"
   ]
  },
  {
   "cell_type": "code",
   "execution_count": 198,
   "metadata": {},
   "outputs": [
    {
     "data": {
      "text/plain": [
       "3190      11.28\n",
       "3384       7.75\n",
       "3550       1.05\n",
       "4357       4.65\n",
       "5017       0.00\n",
       "          ...  \n",
       "259371    13.41\n",
       "259636     5.04\n",
       "260793    11.74\n",
       "261314     0.79\n",
       "262240    11.47\n",
       "Name: HighChangeRatio, Length: 411, dtype: float64"
      ]
     },
     "execution_count": 198,
     "metadata": {},
     "output_type": "execute_result"
    }
   ],
   "source": [
    "high_change_ratio"
   ]
  },
  {
   "cell_type": "code",
   "execution_count": 199,
   "metadata": {},
   "outputs": [
    {
     "data": {
      "image/png": "[encoded data removed]",
      "text/plain": [
       "<Figure size 432x288 with 1 Axes>"
      ]
     },
     "metadata": {
      "needs_background": "light"
     },
     "output_type": "display_data"
    }
   ],
   "source": [
    "import matplotlib.pyplot as plt\n",
    "\n",
    "\n",
    "# Create a histogram with 10 bins\n",
    "plt.hist(high_change_ratio, bins=60)\n",
    "# plt.scatter(high_change_ratio)\n",
    "\n",
    "# Add a title and labels for the axes\n",
    "plt.title('상한가 종목의 다음날 시가 대비 고가 상승률(22/10~23/02')\n",
    "plt.xlabel('상승률')\n",
    "plt.ylabel('종목 수')\n",
    "\n",
    "# Display the plot\n",
    "plt.show()"
   ]
  },
  {
   "cell_type": "code",
   "execution_count": 200,
   "metadata": {},
   "outputs": [
    {
     "data": {
      "image/png": "[encoded data removed]",
      "text/plain": [
       "<Figure size 432x288 with 1 Axes>"
      ]
     },
     "metadata": {
      "needs_background": "light"
     },
     "output_type": "display_data"
    }
   ],
   "source": [
    "import matplotlib.pyplot as plt\n",
    "\n",
    "\n",
    "# Create a histogram with 10 bins\n",
    "plt.hist(low_change_ratio, bins=60)\n",
    "# plt.scatter(high_change_ratio)\n",
    "\n",
    "# Add a title and labels for the axes\n",
    "plt.title('상한가 종목의 다음날 시가 대비 저가 대비 하락률(22/10~23/02')\n",
    "plt.xlabel('상승률')\n",
    "plt.ylabel('종목 수')\n",
    "\n",
    "# Display the plot\n",
    "plt.show()"
   ]
  },
  {
   "cell_type": "code",
   "execution_count": 208,
   "metadata": {},
   "outputs": [
    {
     "data": {
      "text/html": [
       "<div>\n",
       "<style scoped>\n",
       "    .dataframe tbody tr th:only-of-type {\n",
       "        vertical-align: middle;\n",
       "    }\n",
       "\n",
       "    .dataframe tbody tr th {\n",
       "        vertical-align: top;\n",
       "    }\n",
       "\n",
       "    .dataframe thead th {\n",
       "        text-align: right;\n",
       "    }\n",
       "</style>\n",
       "<table border=\"1\" class=\"dataframe\">\n",
       "  <thead>\n",
       "    <tr style=\"text-align: right;\">\n",
       "      <th></th>\n",
       "      <th>Date</th>\n",
       "      <th>Code</th>\n",
       "      <th>Name</th>\n",
       "      <th>Market</th>\n",
       "      <th>Dept</th>\n",
       "      <th>Close</th>\n",
       "      <th>ChangeCode</th>\n",
       "      <th>Changes</th>\n",
       "      <th>ChagesRatio</th>\n",
       "      <th>Open</th>\n",
       "      <th>High</th>\n",
       "      <th>Low</th>\n",
       "      <th>Volume</th>\n",
       "      <th>Amount</th>\n",
       "      <th>Marcap</th>\n",
       "      <th>Stocks</th>\n",
       "      <th>MarketId</th>\n",
       "      <th>Rank</th>\n",
       "      <th>HighChangeRatio</th>\n",
       "      <th>LowChangeRatio</th>\n",
       "    </tr>\n",
       "  </thead>\n",
       "  <tbody>\n",
       "    <tr>\n",
       "      <th>141345</th>\n",
       "      <td>2022-12-20</td>\n",
       "      <td>329020</td>\n",
       "      <td>오션스톤</td>\n",
       "      <td>KONEX</td>\n",
       "      <td>일반기업부</td>\n",
       "      <td>549</td>\n",
       "      <td>2</td>\n",
       "      <td>-251</td>\n",
       "      <td>-31.38</td>\n",
       "      <td>1000</td>\n",
       "      <td>1000</td>\n",
       "      <td>320</td>\n",
       "      <td>218464</td>\n",
       "      <td>124987563</td>\n",
       "      <td>458498448</td>\n",
       "      <td>835152</td>\n",
       "      <td>KNX</td>\n",
       "      <td>2683</td>\n",
       "      <td>0.00</td>\n",
       "      <td>-68.00</td>\n",
       "    </tr>\n",
       "    <tr>\n",
       "      <th>148568</th>\n",
       "      <td>2022-12-23</td>\n",
       "      <td>175140</td>\n",
       "      <td>인포마크</td>\n",
       "      <td>KOSDAQ</td>\n",
       "      <td>관리종목(소속부없음)</td>\n",
       "      <td>5800</td>\n",
       "      <td>2</td>\n",
       "      <td>-1020</td>\n",
       "      <td>-14.96</td>\n",
       "      <td>8520</td>\n",
       "      <td>8860</td>\n",
       "      <td>5680</td>\n",
       "      <td>1079423</td>\n",
       "      <td>7709386820</td>\n",
       "      <td>52090728000</td>\n",
       "      <td>8981160</td>\n",
       "      <td>KSQ</td>\n",
       "      <td>2086</td>\n",
       "      <td>3.99</td>\n",
       "      <td>-33.33</td>\n",
       "    </tr>\n",
       "  </tbody>\n",
       "</table>\n",
       "</div>"
      ],
      "text/plain": [
       "              Date    Code  Name  Market         Dept  Close ChangeCode  \\\n",
       "141345  2022-12-20  329020  오션스톤   KONEX        일반기업부    549          2   \n",
       "148568  2022-12-23  175140  인포마크  KOSDAQ  관리종목(소속부없음)   5800          2   \n",
       "\n",
       "        Changes  ChagesRatio  Open  High   Low   Volume      Amount  \\\n",
       "141345     -251       -31.38  1000  1000   320   218464   124987563   \n",
       "148568    -1020       -14.96  8520  8860  5680  1079423  7709386820   \n",
       "\n",
       "             Marcap   Stocks MarketId  Rank  HighChangeRatio  LowChangeRatio  \n",
       "141345    458498448   835152      KNX  2683             0.00          -68.00  \n",
       "148568  52090728000  8981160      KSQ  2086             3.99          -33.33  "
      ]
     },
     "execution_count": 208,
     "metadata": {},
     "output_type": "execute_result"
    }
   ],
   "source": [
    "next_date_stock_res[next_date_stock_res['LowChangeRatio'] < -30]"
   ]
  },
  {
   "cell_type": "code",
   "execution_count": null,
   "metadata": {},
   "outputs": [],
   "source": []
  }
 ],
 "metadata": {
  "kernelspec": {
   "display_name": "Python 3.9.12 ('base')",
   "language": "python",
   "name": "python3"
  },
  "language_info": {
   "codemirror_mode": {
    "name": "ipython",
    "version": 3
   },
   "file_extension": ".py",
   "mimetype": "text/x-python",
   "name": "python",
   "nbconvert_exporter": "python",
   "pygments_lexer": "ipython3",
   "version": "3.9.12"
  },
  "orig_nbformat": 4,
  "vscode": {
   "interpreter": {
    "hash": "1a1aa031f8f505a1304b2110c37f8dabe2cc22a1b24ff078589fb85b7b5721bb"
   }
  }
 },
 "nbformat": 4,
 "nbformat_minor": 2
}
